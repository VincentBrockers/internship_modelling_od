{
 "cells": [
  {
   "cell_type": "code",
   "execution_count": 1,
   "id": "f29f9d0d-f3f3-4bdc-a0ef-6904ef38bcbc",
   "metadata": {},
   "outputs": [],
   "source": [
    "import numpy as np\n",
    "import matplotlib.pyplot as plt \n",
    "from numba import njit\n",
    "\n",
    "plt.rc('font', size=15)          # controls default text sizes\n",
    "plt.rc('axes', titlesize=15)     # fontsize of the axes title\n",
    "plt.rc('axes', labelsize=15)    # fontsize of the x and y labels\n",
    "plt.rc('xtick', labelsize=12)    # fontsize of the tick labels\n",
    "plt.rc('ytick', labelsize=12)    # fontsize of the tick labels\n",
    "plt.rc('legend', fontsize=10)    # legend fontsize\n",
    "plt.rc('figure', titlesize=20)  # fontsize of the figure title"
   ]
  },
  {
   "cell_type": "code",
   "execution_count": 2,
   "id": "551c6c1c-ce24-49f8-9d81-afdc00109402",
   "metadata": {},
   "outputs": [],
   "source": [
    "##### function creating opinion distribution #####\n",
    "def opinion_dist(N, dist_type, dist_params):\n",
    "    \n",
    "    if dist_type == 'normal':\n",
    "        exp_value = dist_params[0]\n",
    "        std_deviation = dist_params[1]\n",
    "        opinion = np.random.normal(exp_value, std_deviation, N) \n",
    "        return opinion\n",
    "    elif dist_type == 'uniform':\n",
    "        lower_border = dist_params[0]\n",
    "        upper_border = dist_params[1]\n",
    "        opinion = np.random.uniform(lower_border, upper_border, N) \n",
    "        return opinion\n",
    "    elif dist_type == 'beta':\n",
    "        alpha = dist_params[0]\n",
    "        beta = dist_params[1]\n",
    "        opinion = (np.random.beta(alpha, beta, N)-0.5)*2 \n",
    "        return opinion\n",
    "    else:\n",
    "        print('unknown dist_type \"%s\"' %dist_type)\n",
    "        return\n",
    "\n",
    "##### opinion rule weight function #####\n",
    "@njit\n",
    "def f(opinion_a, opinion_b, epsilon, a):\n",
    "    \n",
    "    dist = abs(opinion_a - opinion_b)\n",
    "    \n",
    "    if dist == 0:\n",
    "        weight = 0\n",
    "    \n",
    "    elif dist <= epsilon:\n",
    "        weight = (1-1/epsilon*dist)**a\n",
    "        if weight < 10**(-5): ##### deactivate for allowing smaller weights\n",
    "            weight = 10**(-5)\n",
    "    \n",
    "    elif dist > epsilon:\n",
    "        weight = -(1/epsilon*dist-1)**a\n",
    "        if weight > -10**(-5): ##### deactivate for allowing smaller weights\n",
    "            weight = -10**(-5)\n",
    "            \n",
    "    return weight\n",
    "    \n",
    "#### create striving for uniqueness factors #####\n",
    "@njit\n",
    "def uniqueness(opinion_dist, s):\n",
    "    \n",
    "    Xi = np.zeros(len(opinion_dist))\n",
    "    \n",
    "    for i in range(len(opinion_dist)):\n",
    "        sum_exp = 0\n",
    "        \n",
    "        for j in range(len(opinion_dist)):\n",
    "            sum_exp += np.exp(-abs(opinion_dist[i] - opinion_dist[j]))\n",
    "            \n",
    "        Xi[i] = np.random.normal(0, s/len(opinion_dist)*sum_exp)\n",
    "    \n",
    "    return Xi\n",
    "    \n",
    "##### opinion truncating function #####\n",
    "@njit    \n",
    "def trunc_opinion(opinion):\n",
    "\n",
    "    if opinion < 0:\n",
    "        new_opinion = 0\n",
    "    elif opinion > 1:\n",
    "        new_opinion = 1\n",
    "    else:\n",
    "        new_opinion = opinion\n",
    "    \n",
    "    return new_opinion\n",
    "\n",
    "##### opinion dynamics ##### \n",
    "@njit\n",
    "def opinion_dynamics(simulation_time, opinion_dist, epsilon, a, s, freq_step, N_timeline):\n",
    "    \n",
    "    opinion_timeline = np.zeros((N_timeline, int(simulation_time/freq_step)))\n",
    "    values = np.zeros(simulation_time)\n",
    "    \n",
    "    for i in range(simulation_time):\n",
    "        x = np.random.randint(0, len(opinion_dist))\n",
    "        opinion = opinion_dist[x]\n",
    "        sum_diffs = 0\n",
    "        sum_weights = 0\n",
    "        \n",
    "        for j in range(len(opinion_dist)):\n",
    "            sum_diffs += f(opinion, opinion_dist[j], epsilon, a) * (opinion_dist[j]-opinion)\n",
    "            sum_weights += f(opinion, opinion_dist[j], epsilon, a)\n",
    "        \n",
    "        if sum_weights == 0:\n",
    "            ratio = 0\n",
    "        else:\n",
    "            ratio = sum_diffs/sum_weights\n",
    "        \n",
    "        ##### activate for limiting the ratio in the opinion update rule #####\n",
    "        \n",
    "        #if ratio > 0.075:\n",
    "        #    ratio = 0.075\n",
    "        #elif ratio < -0.075:\n",
    "        #    ratio = -0.075\n",
    "        \n",
    "        values[i] = ratio\n",
    "        \n",
    "        if s != 0:\n",
    "            Xi = uniqueness(opinion_dist, s)\n",
    "        else: \n",
    "            Xi = np.zeros(len(opinion_dist))\n",
    "            \n",
    "        opinion_dist[x] += ratio + Xi[x] \n",
    "        opinion = opinion_dist[x]\n",
    "        opinion_dist[x] = trunc_opinion(opinion)\n",
    "        \n",
    "        if i%freq_step == 0:\n",
    "            \n",
    "            for k in range(N_timeline):\n",
    "                opinion_timeline[k, int(i/freq_step)] = opinion_dist[k]\n",
    "                \n",
    "        if i%int(simulation_time*0.1) == 0:\n",
    "            print(i/simulation_time)\n",
    "        \n",
    "    return opinion_dist, opinion_timeline, values"
   ]
  },
  {
   "cell_type": "code",
   "execution_count": 3,
   "id": "3d7e7163-eb69-4ea9-ba9d-cef4122e4b87",
   "metadata": {},
   "outputs": [
    {
     "data": {
      "image/png": "[encoded data removed]",
      "text/plain": [
       "<Figure size 640x480 with 1 Axes>"
      ]
     },
     "metadata": {},
     "output_type": "display_data"
    },
    {
     "name": "stdout",
     "output_type": "stream",
     "text": [
      "Standard deviation: 0.09309586562419135\n"
     ]
    }
   ],
   "source": [
    "##### create and plot initial opinion distribution #####\n",
    "\n",
    "np.random.seed(45)\n",
    "N = 100\n",
    "\n",
    "opinions = opinion_dist(N, 'normal', [0.5, 0.1])\n",
    "\n",
    "##### ensure every opinion is in the initial range #####\n",
    "for i in range(N):\n",
    "    while opinions[i] > 1 or opinions[i] < 0:\n",
    "        opinions[i] = np.random.normal(0.5, 3)\n",
    "\n",
    "##### create bi-polarized state #####\n",
    "#opinions = np.zeros(N)\n",
    "#for i in range(50):\n",
    "#    opinions[i] = 0\n",
    "#    opinions[i+50] = 1\n",
    "\n",
    "plt.figure()\n",
    "plt.hist(opinions, bins=30)\n",
    "plt.xlabel('opinion')\n",
    "plt.xlim([0,1])\n",
    "plt.show()\n",
    "\n",
    "print(f\"Standard deviation: {np.std(opinions)}\")"
   ]
  },
  {
   "cell_type": "code",
   "execution_count": 4,
   "id": "63e3ee5d-7d73-42e9-8975-1363c10de51e",
   "metadata": {
    "tags": []
   },
   "outputs": [
    {
     "name": "stdout",
     "output_type": "stream",
     "text": [
      "0.0\n",
      "0.1\n",
      "0.2\n",
      "0.3\n",
      "0.4\n",
      "0.5\n",
      "0.6\n",
      "0.7\n",
      "0.8\n",
      "0.9\n"
     ]
    }
   ],
   "source": [
    "##### set simulation parameters #####\n",
    "\n",
    "simulation_time = 2*10**6\n",
    "epsilon = 0.5\n",
    "a = 100\n",
    "s = 0\n",
    "border = 1\n",
    "freq_step = 100 # frequency of saving all opinions to create the timeline\n",
    "\n",
    "##### run simulation, save new opinions, timeline and weight function values #####\n",
    "opinions, timeline, values = opinion_dynamics(simulation_time, opinions, epsilon, a, s, freq_step, N)"
   ]
  },
  {
   "cell_type": "code",
   "execution_count": 5,
   "id": "e2859bdc-bb92-4ed1-999d-3e8ecfe38ebf",
   "metadata": {
    "tags": []
   },
   "outputs": [
    {
     "data": {
      "image/png": "[encoded data removed]",
      "text/plain": [
       "<Figure size 1000x400 with 1 Axes>"
      ]
     },
     "metadata": {},
     "output_type": "display_data"
    }
   ],
   "source": [
    "##### plotting the opinion timeline #####\n",
    "\n",
    "x = np.arange(0, simulation_time, freq_step)\n",
    "t = np.arange(0, int(simulation_time/freq_step), 1)\n",
    "\n",
    "plt.figure(figsize=(10,4))\n",
    "for i in range(0, 100):\n",
    "    plt.plot(x, timeline[i, t], alpha=0.5, linewidth=0.2, color='black')\n",
    "plt.xlim([0, simulation_time])\n",
    "plt.ylim([-0.05,1.05])\n",
    "plt.xlabel('runtime')\n",
    "plt.ylabel('opinion')\n",
    "plt.tight_layout()\n",
    "#plt.savefig('.png', dpi=200)\n",
    "plt.show()"
   ]
  }
 ],
 "metadata": {
  "kernelspec": {
   "display_name": "Python 3 (ipykernel)",
   "language": "python",
   "name": "python3"
  },
  "language_info": {
   "codemirror_mode": {
    "name": "ipython",
    "version": 3
   },
   "file_extension": ".py",
   "mimetype": "text/x-python",
   "name": "python",
   "nbconvert_exporter": "python",
   "pygments_lexer": "ipython3",
   "version": "3.10.6"
  }
 },
 "nbformat": 4,
 "nbformat_minor": 5
}
